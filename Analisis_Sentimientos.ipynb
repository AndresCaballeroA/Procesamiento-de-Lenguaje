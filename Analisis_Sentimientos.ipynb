{
 "cells": [
  {
   "cell_type": "markdown",
   "id": "196d6fca",
   "metadata": {},
   "source": [
    "# Analisis de sentimientos"
   ]
  },
  {
   "cell_type": "markdown",
   "id": "83c9fbc3",
   "metadata": {},
   "source": [
    "Método basado en diccionarios léxicos\n",
    "Funciona con un listado de palabras positivas y negativas con su puntaje.\n",
    "\n",
    "* Ventaja: rápido, sin entrenar modelo.\n",
    "* Desventaja: poco preciso en sarcasmo o contexto."
   ]
  },
  {
   "cell_type": "code",
   "execution_count": 1,
   "id": "c5b5f039",
   "metadata": {},
   "outputs": [
    {
     "name": "stdout",
     "output_type": "stream",
     "text": [
      "Collecting textblob\n",
      "  Downloading textblob-0.19.0-py3-none-any.whl.metadata (4.4 kB)\n",
      "Requirement already satisfied: nltk>=3.9 in c:\\users\\acca4\\appdata\\local\\programs\\python\\python313\\lib\\site-packages (from textblob) (3.9.1)\n",
      "Requirement already satisfied: click in c:\\users\\acca4\\appdata\\local\\programs\\python\\python313\\lib\\site-packages (from nltk>=3.9->textblob) (8.2.1)\n",
      "Requirement already satisfied: joblib in c:\\users\\acca4\\appdata\\local\\programs\\python\\python313\\lib\\site-packages (from nltk>=3.9->textblob) (1.5.1)\n",
      "Requirement already satisfied: regex>=2021.8.3 in c:\\users\\acca4\\appdata\\local\\programs\\python\\python313\\lib\\site-packages (from nltk>=3.9->textblob) (2025.7.34)\n",
      "Requirement already satisfied: tqdm in c:\\users\\acca4\\appdata\\local\\programs\\python\\python313\\lib\\site-packages (from nltk>=3.9->textblob) (4.67.1)\n",
      "Requirement already satisfied: colorama in c:\\users\\acca4\\appdata\\roaming\\python\\python313\\site-packages (from click->nltk>=3.9->textblob) (0.4.6)\n",
      "Downloading textblob-0.19.0-py3-none-any.whl (624 kB)\n",
      "   ---------------------------------------- 0.0/624.3 kB ? eta -:--:--\n",
      "   ---------------------------------------- 624.3/624.3 kB 5.0 MB/s  0:00:00\n",
      "Installing collected packages: textblob\n",
      "Successfully installed textblob-0.19.0\n",
      "Note: you may need to restart the kernel to use updated packages.\n"
     ]
    }
   ],
   "source": [
    "%pip install textblob"
   ]
  },
  {
   "cell_type": "code",
   "execution_count": 2,
   "id": "3672205e",
   "metadata": {},
   "outputs": [
    {
     "name": "stdout",
     "output_type": "stream",
     "text": [
      "Polaridad: 0.0\n",
      "Subjetividad: 0.0\n"
     ]
    }
   ],
   "source": [
    "from textblob import TextBlob\n",
    "from textblob.sentiments import NaiveBayesAnalyzer\n",
    "\n",
    "# Texto de ejemplo\n",
    "texto = \"Me encanta este producto, pero el envío fue muy lento.\"\n",
    "\n",
    "# Crear objeto TextBlob\n",
    "blob = TextBlob(texto)\n",
    "\n",
    "# Polaridad: -1 negativo, 0 neutro, +1 positivo\n",
    "# Subjetividad: 0 objetivo, 1 subjetivo\n",
    "print(\"Polaridad:\", blob.sentiment.polarity)\n",
    "print(\"Subjetividad:\", blob.sentiment.subjectivity)\n"
   ]
  },
  {
   "cell_type": "markdown",
   "id": "04a5dc5b",
   "metadata": {},
   "source": [
    "# 2. Método basado en modelos preentrenados"
   ]
  },
  {
   "cell_type": "markdown",
   "id": "b4ec7ce2",
   "metadata": {},
   "source": [
    "Aquí un modelo de deep learning ya ha aprendido a clasificar textos como positivos, negativos o neutros."
   ]
  }
 ],
 "metadata": {
  "kernelspec": {
   "display_name": "Python 3",
   "language": "python",
   "name": "python3"
  },
  "language_info": {
   "codemirror_mode": {
    "name": "ipython",
    "version": 3
   },
   "file_extension": ".py",
   "mimetype": "text/x-python",
   "name": "python",
   "nbconvert_exporter": "python",
   "pygments_lexer": "ipython3",
   "version": "3.13.6"
  }
 },
 "nbformat": 4,
 "nbformat_minor": 5
}
